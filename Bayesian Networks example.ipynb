{
 "cells": [
  {
   "attachments": {},
   "cell_type": "markdown",
   "metadata": {},
   "source": [
    "# Monty Hall Problem\n",
    "<p align=\"center\">\n",
    "<img src=\"images/Monty Hall Prob 1.png\" style=\"width:1200px;height:600px;\">\n",
    "</p>\n",
    "<p align=\"center\">\n",
    "<img src=\"images/Monty Hall Prob 2.png\" style=\"width:1200px;height:600px;\">\n",
    "</p>"
   ]
  },
  {
   "cell_type": "code",
   "execution_count": 1,
   "metadata": {},
   "outputs": [],
   "source": [
    "import math\n",
    "import pomegranate as pom"
   ]
  },
  {
   "cell_type": "code",
   "execution_count": 5,
   "metadata": {},
   "outputs": [
    {
     "data": {
      "text/plain": [
       "{\n",
       "    \"class\" : \"Distribution\",\n",
       "    \"dtype\" : \"str\",\n",
       "    \"name\" : \"DiscreteDistribution\",\n",
       "    \"parameters\" : [\n",
       "        {\n",
       "            \"A\" : 0.3333333333333333,\n",
       "            \"B\" : 0.3333333333333333,\n",
       "            \"C\" : 0.3333333333333333\n",
       "        }\n",
       "    ],\n",
       "    \"frozen\" : false\n",
       "}"
      ]
     },
     "execution_count": 5,
     "metadata": {},
     "output_type": "execute_result"
    }
   ],
   "source": [
    "# The guests initial door selection is completely random\n",
    "guest = pom.DiscreteDistribution({'A':1/3, 'B':1/3, 'C':1/3})\n",
    "guest"
   ]
  },
  {
   "cell_type": "code",
   "execution_count": 6,
   "metadata": {},
   "outputs": [
    {
     "data": {
      "text/plain": [
       "{\n",
       "    \"class\" : \"Distribution\",\n",
       "    \"dtype\" : \"str\",\n",
       "    \"name\" : \"DiscreteDistribution\",\n",
       "    \"parameters\" : [\n",
       "        {\n",
       "            \"A\" : 0.3333333333333333,\n",
       "            \"B\" : 0.3333333333333333,\n",
       "            \"C\" : 0.3333333333333333\n",
       "        }\n",
       "    ],\n",
       "    \"frozen\" : false\n",
       "}"
      ]
     },
     "execution_count": 6,
     "metadata": {},
     "output_type": "execute_result"
    }
   ],
   "source": [
    "# The prize location also is completely random initially\n",
    "prize = pom.DiscreteDistribution({'A':1/3, 'B':1/3, 'C':1/3})\n",
    "prize"
   ]
  },
  {
   "cell_type": "code",
   "execution_count": 9,
   "metadata": {},
   "outputs": [
    {
     "data": {
      "text/plain": [
       "{\n",
       "    \"class\" : \"Distribution\",\n",
       "    \"name\" : \"ConditionalProbabilityTable\",\n",
       "    \"table\" : [\n",
       "        [\n",
       "            \"A\",\n",
       "            \"A\",\n",
       "            \"A\",\n",
       "            \"0.0\"\n",
       "        ],\n",
       "        [\n",
       "            \"A\",\n",
       "            \"A\",\n",
       "            \"B\",\n",
       "            \"0.5\"\n",
       "        ],\n",
       "        [\n",
       "            \"A\",\n",
       "            \"A\",\n",
       "            \"C\",\n",
       "            \"0.5\"\n",
       "        ],\n",
       "        [\n",
       "            \"A\",\n",
       "            \"B\",\n",
       "            \"A\",\n",
       "            \"0.0\"\n",
       "        ],\n",
       "        [\n",
       "            \"A\",\n",
       "            \"B\",\n",
       "            \"B\",\n",
       "            \"0.0\"\n",
       "        ],\n",
       "        [\n",
       "            \"A\",\n",
       "            \"B\",\n",
       "            \"C\",\n",
       "            \"1.0\"\n",
       "        ],\n",
       "        [\n",
       "            \"A\",\n",
       "            \"C\",\n",
       "            \"A\",\n",
       "            \"0.0\"\n",
       "        ],\n",
       "        [\n",
       "            \"A\",\n",
       "            \"C\",\n",
       "            \"B\",\n",
       "            \"1.0\"\n",
       "        ],\n",
       "        [\n",
       "            \"A\",\n",
       "            \"C\",\n",
       "            \"C\",\n",
       "            \"0.0\"\n",
       "        ],\n",
       "        [\n",
       "            \"B\",\n",
       "            \"A\",\n",
       "            \"A\",\n",
       "            \"0.0\"\n",
       "        ],\n",
       "        [\n",
       "            \"B\",\n",
       "            \"A\",\n",
       "            \"B\",\n",
       "            \"0.0\"\n",
       "        ],\n",
       "        [\n",
       "            \"B\",\n",
       "            \"A\",\n",
       "            \"C\",\n",
       "            \"1.0\"\n",
       "        ],\n",
       "        [\n",
       "            \"B\",\n",
       "            \"B\",\n",
       "            \"A\",\n",
       "            \"0.5\"\n",
       "        ],\n",
       "        [\n",
       "            \"B\",\n",
       "            \"B\",\n",
       "            \"B\",\n",
       "            \"0.0\"\n",
       "        ],\n",
       "        [\n",
       "            \"B\",\n",
       "            \"B\",\n",
       "            \"C\",\n",
       "            \"0.5\"\n",
       "        ],\n",
       "        [\n",
       "            \"B\",\n",
       "            \"C\",\n",
       "            \"A\",\n",
       "            \"1.0\"\n",
       "        ],\n",
       "        [\n",
       "            \"B\",\n",
       "            \"C\",\n",
       "            \"B\",\n",
       "            \"0.0\"\n",
       "        ],\n",
       "        [\n",
       "            \"B\",\n",
       "            \"C\",\n",
       "            \"C\",\n",
       "            \"0.0\"\n",
       "        ],\n",
       "        [\n",
       "            \"C\",\n",
       "            \"A\",\n",
       "            \"A\",\n",
       "            \"0.0\"\n",
       "        ],\n",
       "        [\n",
       "            \"C\",\n",
       "            \"A\",\n",
       "            \"B\",\n",
       "            \"1.0\"\n",
       "        ],\n",
       "        [\n",
       "            \"C\",\n",
       "            \"A\",\n",
       "            \"C\",\n",
       "            \"0.0\"\n",
       "        ],\n",
       "        [\n",
       "            \"C\",\n",
       "            \"B\",\n",
       "            \"A\",\n",
       "            \"1.0\"\n",
       "        ],\n",
       "        [\n",
       "            \"C\",\n",
       "            \"B\",\n",
       "            \"B\",\n",
       "            \"0.0\"\n",
       "        ],\n",
       "        [\n",
       "            \"C\",\n",
       "            \"B\",\n",
       "            \"C\",\n",
       "            \"0.0\"\n",
       "        ],\n",
       "        [\n",
       "            \"C\",\n",
       "            \"C\",\n",
       "            \"A\",\n",
       "            \"0.5\"\n",
       "        ],\n",
       "        [\n",
       "            \"C\",\n",
       "            \"C\",\n",
       "            \"B\",\n",
       "            \"0.5\"\n",
       "        ],\n",
       "        [\n",
       "            \"C\",\n",
       "            \"C\",\n",
       "            \"C\",\n",
       "            \"0.0\"\n",
       "        ]\n",
       "    ],\n",
       "    \"dtypes\" : [\n",
       "        \"str\",\n",
       "        \"str\",\n",
       "        \"str\",\n",
       "        \"float\"\n",
       "    ],\n",
       "    \"parents\" : [\n",
       "        {\n",
       "            \"class\" : \"Distribution\",\n",
       "            \"dtype\" : \"str\",\n",
       "            \"name\" : \"DiscreteDistribution\",\n",
       "            \"parameters\" : [\n",
       "                {\n",
       "                    \"A\" : 0.3333333333333333,\n",
       "                    \"B\" : 0.3333333333333333,\n",
       "                    \"C\" : 0.3333333333333333\n",
       "                }\n",
       "            ],\n",
       "            \"frozen\" : false\n",
       "        },\n",
       "        {\n",
       "            \"class\" : \"Distribution\",\n",
       "            \"dtype\" : \"str\",\n",
       "            \"name\" : \"DiscreteDistribution\",\n",
       "            \"parameters\" : [\n",
       "                {\n",
       "                    \"A\" : 0.3333333333333333,\n",
       "                    \"B\" : 0.3333333333333333,\n",
       "                    \"C\" : 0.3333333333333333\n",
       "                }\n",
       "            ],\n",
       "            \"frozen\" : false\n",
       "        }\n",
       "    ]\n",
       "}"
      ]
     },
     "execution_count": 9,
     "metadata": {},
     "output_type": "execute_result"
    }
   ],
   "source": [
    "# Monty's choice is dependent on both guest's choice and the prize location\n",
    "monty = pom.ConditionalProbabilityTable([\n",
    "    ['A','A','A',0.0],\n",
    "    ['A','A','B',0.5],\n",
    "    ['A','A','C',0.5],\n",
    "    ['A','B','A',0.0],\n",
    "    ['A','B','B',0.0],\n",
    "    ['A','B','C',1.0], # Monty choosing A, given guest chose C and prize is in B\n",
    "    ['A','C','A',0.0],\n",
    "    ['A','C','B',1.0],\n",
    "    ['A','C','C',0.0],\n",
    "    ['B','A','A',0.0],\n",
    "    ['B','A','B',0.0],\n",
    "    ['B','A','C',1.0],\n",
    "    ['B','B','A',0.5],\n",
    "    ['B','B','B',0.0],\n",
    "    ['B','B','C',0.5],\n",
    "    ['B','C','A',1.0],\n",
    "    ['B','C','B',0.0],\n",
    "    ['B','C','C',0.0],\n",
    "    ['C','A','A',0.0],\n",
    "    ['C','A','B',1.0],\n",
    "    ['C','A','C',0.0],\n",
    "    ['C','B','A',1.0],\n",
    "    ['C','B','B',0.0],\n",
    "    ['C','B','C',0.0],\n",
    "    ['C','C','A',0.5],\n",
    "    ['C','C','B',0.5],\n",
    "    ['C','C','C',0.0],\n",
    "], [prize, guest])\n",
    "monty"
   ]
  },
  {
   "cell_type": "code",
   "execution_count": 10,
   "metadata": {},
   "outputs": [],
   "source": [
    "s1 = pom.State(guest, name=\"guest\")\n",
    "s2 = pom.State(prize, name=\"prize\")\n",
    "s3 = pom.State(monty, name=\"monty\")"
   ]
  },
  {
   "cell_type": "code",
   "execution_count": 11,
   "metadata": {},
   "outputs": [],
   "source": [
    "network = pom.BayesianNetwork(\"Monty Hall Problem\")\n",
    "network.add_states(s1, s2, s3)\n",
    "network.add_edge(s1, s3)\n",
    "network.add_edge(s2, s3)\n",
    "network.bake()"
   ]
  },
  {
   "attachments": {},
   "cell_type": "markdown",
   "metadata": {},
   "source": [
    "## Predictions"
   ]
  },
  {
   "cell_type": "code",
   "execution_count": 12,
   "metadata": {},
   "outputs": [
    {
     "data": {
      "text/plain": [
       "array(['A', {\n",
       "                \"class\" : \"Distribution\",\n",
       "                \"dtype\" : \"str\",\n",
       "                \"name\" : \"DiscreteDistribution\",\n",
       "                \"parameters\" : [\n",
       "                    {\n",
       "                        \"A\" : 0.3333333333333333,\n",
       "                        \"B\" : 0.3333333333333333,\n",
       "                        \"C\" : 0.3333333333333333\n",
       "                    }\n",
       "                ],\n",
       "                \"frozen\" : false\n",
       "            }                                    ,\n",
       "       {\n",
       "           \"class\" : \"Distribution\",\n",
       "           \"dtype\" : \"str\",\n",
       "           \"name\" : \"DiscreteDistribution\",\n",
       "           \"parameters\" : [\n",
       "               {\n",
       "                   \"A\" : 0.0,\n",
       "                   \"B\" : 0.49999999999999983,\n",
       "                   \"C\" : 0.49999999999999983\n",
       "               }\n",
       "           ],\n",
       "           \"frozen\" : false\n",
       "       }                                     ], dtype=object)"
      ]
     },
     "execution_count": 12,
     "metadata": {},
     "output_type": "execute_result"
    }
   ],
   "source": [
    "beliefs = network.predict_proba({'guest': 'A'})\n",
    "beliefs"
   ]
  },
  {
   "cell_type": "code",
   "execution_count": 16,
   "metadata": {},
   "outputs": [
    {
     "name": "stdout",
     "output_type": "stream",
     "text": [
      "guest\tA\n",
      "prize\t{\n",
      "    \"class\" : \"Distribution\",\n",
      "    \"dtype\" : \"str\",\n",
      "    \"name\" : \"DiscreteDistribution\",\n",
      "    \"parameters\" : [\n",
      "        {\n",
      "            \"A\" : 0.3333333333333333,\n",
      "            \"B\" : 0.3333333333333333,\n",
      "            \"C\" : 0.3333333333333333\n",
      "        }\n",
      "    ],\n",
      "    \"frozen\" : false\n",
      "}\n",
      "monty\t{\n",
      "    \"class\" : \"Distribution\",\n",
      "    \"dtype\" : \"str\",\n",
      "    \"name\" : \"DiscreteDistribution\",\n",
      "    \"parameters\" : [\n",
      "        {\n",
      "            \"A\" : 0.0,\n",
      "            \"B\" : 0.49999999999999983,\n",
      "            \"C\" : 0.49999999999999983\n",
      "        }\n",
      "    ],\n",
      "    \"frozen\" : false\n",
      "}\n"
     ]
    }
   ],
   "source": [
    "beliefs = map(str, beliefs)\n",
    "print(\"\\n\".join(\"{}\\t{}\".format(state.name, belief) for state, belief in zip(network.states, beliefs)))"
   ]
  },
  {
   "cell_type": "code",
   "execution_count": 17,
   "metadata": {},
   "outputs": [
    {
     "name": "stdout",
     "output_type": "stream",
     "text": [
      "guest\tA\n",
      "prize\t{\n",
      "    \"class\" : \"Distribution\",\n",
      "    \"dtype\" : \"str\",\n",
      "    \"name\" : \"DiscreteDistribution\",\n",
      "    \"parameters\" : [\n",
      "        {\n",
      "            \"A\" : 0.3333333333333334,\n",
      "            \"B\" : 0.0,\n",
      "            \"C\" : 0.6666666666666664\n",
      "        }\n",
      "    ],\n",
      "    \"frozen\" : false\n",
      "}\n",
      "monty\tB\n"
     ]
    }
   ],
   "source": [
    "beliefs = network.predict_proba({'guest': 'A', 'monty': 'B'})\n",
    "beliefs = map(str, beliefs)\n",
    "print(\"\\n\".join(\"{}\\t{}\".format(state.name, belief) for state, belief in zip(network.states, beliefs)))"
   ]
  },
  {
   "attachments": {},
   "cell_type": "markdown",
   "metadata": {},
   "source": [
    "Hence it is best for the person to switch his/her first option to the other, for better chance of winning the prize"
   ]
  }
 ],
 "metadata": {
  "kernelspec": {
   "display_name": "Python 3",
   "language": "python",
   "name": "python3"
  },
  "language_info": {
   "codemirror_mode": {
    "name": "ipython",
    "version": 3
   },
   "file_extension": ".py",
   "mimetype": "text/x-python",
   "name": "python",
   "nbconvert_exporter": "python",
   "pygments_lexer": "ipython3",
   "version": "3.10.6"
  },
  "orig_nbformat": 4,
  "vscode": {
   "interpreter": {
    "hash": "193f6b5c64d175a70f8bc370a8e28557b54eddf9787b8dde324aa4d68183bc16"
   }
  }
 },
 "nbformat": 4,
 "nbformat_minor": 2
}
