{
 "cells": [
  {
   "cell_type": "code",
   "execution_count": 1,
   "metadata": {},
   "outputs": [],
   "source": [
    "import numpy as np\n",
    "import pandas as pd\n",
    "import random as rd\n",
    "from matplotlib import pyplot as plt\n",
    "from sklearn.model_selection import train_test_split\n",
    "from sklearn.linear_model import LinearRegression\n",
    "from sklearn.neighbors import KNeighborsClassifier\n",
    "from sklearn.naive_bayes import GaussianNB\n",
    "from sklearn.preprocessing import StandardScaler\n",
    "from sklearn.metrics import classification_report, confusion_matrix, ConfusionMatrixDisplay"
   ]
  },
  {
   "cell_type": "code",
   "execution_count": 2,
   "metadata": {},
   "outputs": [
    {
     "name": "stdout",
     "output_type": "stream",
     "text": [
      "      White King file  White King row White Rook file  White Rook row  \\\n",
      "0                   a               1               b               3   \n",
      "1                   a               1               c               1   \n",
      "2                   a               1               c               1   \n",
      "3                   a               1               c               1   \n",
      "4                   a               1               c               2   \n",
      "...               ...             ...             ...             ...   \n",
      "28051               b               1               g               7   \n",
      "28052               b               1               g               7   \n",
      "28053               b               1               g               7   \n",
      "28054               b               1               g               7   \n",
      "28055               b               1               g               7   \n",
      "\n",
      "      Black King file  Black King row   Result  \n",
      "0                   c               2     draw  \n",
      "1                   c               2     draw  \n",
      "2                   d               1     draw  \n",
      "3                   d               2     draw  \n",
      "4                   c               1     draw  \n",
      "...               ...             ...      ...  \n",
      "28051               e               5  sixteen  \n",
      "28052               e               6  sixteen  \n",
      "28053               e               7  sixteen  \n",
      "28054               f               5  sixteen  \n",
      "28055               g               5  sixteen  \n",
      "\n",
      "[28056 rows x 7 columns]\n",
      "<class 'pandas.core.frame.DataFrame'>\n",
      "RangeIndex: 28056 entries, 0 to 28055\n",
      "Data columns (total 7 columns):\n",
      " #   Column           Non-Null Count  Dtype \n",
      "---  ------           --------------  ----- \n",
      " 0   White King file  28056 non-null  object\n",
      " 1   White King row   28056 non-null  int64 \n",
      " 2   White Rook file  28056 non-null  object\n",
      " 3   White Rook row   28056 non-null  int64 \n",
      " 4   Black King file  28056 non-null  object\n",
      " 5   Black King row   28056 non-null  int64 \n",
      " 6   Result           28056 non-null  object\n",
      "dtypes: int64(3), object(4)\n",
      "memory usage: 1.5+ MB\n"
     ]
    }
   ],
   "source": [
    "columns=['White King file','White King row','White Rook file','White Rook row','Black King file','Black King row','Result']\n",
    "data=pd.read_csv('krkopt.data', names=columns)\n",
    "print(data)\n",
    "data.describe()\n",
    "data.info()"
   ]
  },
  {
   "cell_type": "code",
   "execution_count": 3,
   "metadata": {},
   "outputs": [
    {
     "name": "stdout",
     "output_type": "stream",
     "text": [
      "Unique class labels : ['draw' 'zero' 'one' 'two' 'three' 'four' 'five' 'six' 'seven' 'eight'\n",
      " 'nine' 'ten' 'eleven' 'twelve' 'thirteen' 'fourteen' 'fifteen' 'sixteen']\n"
     ]
    }
   ],
   "source": [
    "classLabels = data['Result'].unique()\n",
    "print('Unique class labels :',classLabels)"
   ]
  },
  {
   "cell_type": "markdown",
   "metadata": {},
   "source": [
    "## Data Preprocessing"
   ]
  },
  {
   "cell_type": "code",
   "execution_count": 4,
   "metadata": {},
   "outputs": [
    {
     "name": "stdout",
     "output_type": "stream",
     "text": [
      "Rows Data :\n",
      "        White King row  White Rook row  Black King row\n",
      "0                   1               3               2\n",
      "1                   1               1               2\n",
      "2                   1               1               1\n",
      "3                   1               1               2\n",
      "4                   1               2               1\n",
      "...               ...             ...             ...\n",
      "28051               1               7               5\n",
      "28052               1               7               6\n",
      "28053               1               7               7\n",
      "28054               1               7               5\n",
      "28055               1               7               5\n",
      "\n",
      "[28056 rows x 3 columns] \n",
      "\n",
      "Files Data :\n",
      "       White King file White Rook file Black King file\n",
      "0                   a               b               c\n",
      "1                   a               c               c\n",
      "2                   a               c               d\n",
      "3                   a               c               d\n",
      "4                   a               c               c\n",
      "...               ...             ...             ...\n",
      "28051               b               g               e\n",
      "28052               b               g               e\n",
      "28053               b               g               e\n",
      "28054               b               g               f\n",
      "28055               b               g               g\n",
      "\n",
      "[28056 rows x 3 columns]\n"
     ]
    }
   ],
   "source": [
    "rowData = data.drop(columns=['White King file', 'White Rook file', 'Black King file','Result'])\n",
    "print('Rows Data :\\n',rowData,'\\n')\n",
    "fileData = data.drop(columns=['White King row', 'White Rook row', 'Black King row','Result'])\n",
    "print('Files Data :\\n',fileData)"
   ]
  },
  {
   "cell_type": "code",
   "execution_count": 5,
   "metadata": {
    "scrolled": true
   },
   "outputs": [
    {
     "name": "stdout",
     "output_type": "stream",
     "text": [
      "Overall Value :\n",
      "       White King Value White Rook Value Black King Value\n",
      "0              4.94975          2.91548          2.91548\n",
      "1              4.94975          3.80789          2.91548\n",
      "2              4.94975          3.80789          3.53553\n",
      "3              4.94975          3.80789          2.54951\n",
      "4              4.94975          2.91548          3.80789\n",
      "...                ...              ...              ...\n",
      "28051          4.30116          3.53553         0.707107\n",
      "28052          4.30116          3.53553          1.58114\n",
      "28053          4.30116          3.53553          2.54951\n",
      "28054          4.30116          3.53553          1.58114\n",
      "28055          4.30116          3.53553          2.54951\n",
      "\n",
      "[28056 rows x 3 columns]\n"
     ]
    }
   ],
   "source": [
    "valueData=fileData\n",
    "rows=['White King row', 'White Rook row', 'Black King row']\n",
    "c=0\n",
    "c1=0\n",
    "for i in fileData:\n",
    "    for j in fileData[i]:\n",
    "        valueData[i][c]=np.linalg.norm([ord(j)-100.5,(int(rowData[rows[c1]][c])-4.5)]) #Distance from the center of board\n",
    "        c+=1\n",
    "    c=0   \n",
    "    c1+=1\n",
    "valueData=valueData.rename(columns={'White King file':'White King Value','White Rook file':'White Rook Value','Black King file':'Black King Value'})\n",
    "print('Overall Value :\\n',valueData)"
   ]
  },
  {
   "cell_type": "code",
   "execution_count": 6,
   "metadata": {
    "scrolled": true
   },
   "outputs": [
    {
     "name": "stdout",
     "output_type": "stream",
     "text": [
      "      White King Value White Rook Value Black King Value   Result\n",
      "0              4.94975          2.91548          2.91548     draw\n",
      "1              4.94975          3.80789          2.91548     draw\n",
      "2              4.94975          3.80789          3.53553     draw\n",
      "3              4.94975          3.80789          2.54951     draw\n",
      "4              4.94975          2.91548          3.80789     draw\n",
      "...                ...              ...              ...      ...\n",
      "28051          4.30116          3.53553         0.707107  sixteen\n",
      "28052          4.30116          3.53553          1.58114  sixteen\n",
      "28053          4.30116          3.53553          2.54951  sixteen\n",
      "28054          4.30116          3.53553          1.58114  sixteen\n",
      "28055          4.30116          3.53553          2.54951  sixteen\n",
      "\n",
      "[28056 rows x 4 columns]\n"
     ]
    }
   ],
   "source": [
    "valueData['Result']=data['Result']\n",
    "print(valueData)"
   ]
  },
  {
   "cell_type": "code",
   "execution_count": 7,
   "metadata": {},
   "outputs": [],
   "source": [
    "valueData=(valueData.sample(frac=0.75))[:25] #Shuffling and taking first 25 samples\n",
    "X = valueData.iloc[:, :3].values\n",
    "Y = valueData.iloc[:, 3].values"
   ]
  },
  {
   "cell_type": "code",
   "execution_count": 8,
   "metadata": {},
   "outputs": [
    {
     "name": "stdout",
     "output_type": "stream",
     "text": [
      "X:\n",
      " [[2.1213203435596424 4.949747468305833 3.5355339059327378]\n",
      " [0.7071067811865476 3.5355339059327378 2.9154759474226504]\n",
      " [0.7071067811865476 2.5495097567963922 3.8078865529319543]\n",
      " [3.8078865529319543 3.5355339059327378 3.5355339059327378]\n",
      " [1.5811388300841898 0.7071067811865476 2.9154759474226504]\n",
      " [2.5495097567963922 2.1213203435596424 3.8078865529319543]\n",
      " [3.5355339059327378 4.301162633521313 2.1213203435596424]\n",
      " [2.9154759474226504 2.9154759474226504 2.1213203435596424]\n",
      " [2.5495097567963922 2.9154759474226504 1.5811388300841898]\n",
      " [3.5355339059327378 4.949747468305833 2.5495097567963922]\n",
      " [4.301162633521313 2.5495097567963922 2.9154759474226504]\n",
      " [3.8078865529319543 4.301162633521313 4.949747468305833]\n",
      " [2.5495097567963922 3.8078865529319543 3.5355339059327378]\n",
      " [1.5811388300841898 4.949747468305833 3.8078865529319543]\n",
      " [2.9154759474226504 0.7071067811865476 3.8078865529319543]\n",
      " [2.5495097567963922 2.1213203435596424 2.9154759474226504]\n",
      " [0.7071067811865476 2.5495097567963922 4.301162633521313]\n",
      " [2.9154759474226504 0.7071067811865476 4.949747468305833]\n",
      " [3.5355339059327378 3.5355339059327378 3.8078865529319543]\n",
      " [3.8078865529319543 3.8078865529319543 3.5355339059327378]\n",
      " [4.301162633521313 2.1213203435596424 3.5355339059327378]\n",
      " [4.949747468305833 4.301162633521313 2.9154759474226504]\n",
      " [3.8078865529319543 3.5355339059327378 2.9154759474226504]\n",
      " [2.1213203435596424 2.9154759474226504 2.9154759474226504]\n",
      " [2.5495097567963922 2.9154759474226504 3.5355339059327378]]\n",
      "\n",
      "Y:\n",
      " ['eleven' 'nine' 'nine' 'twelve' 'nine' 'six' 'fourteen' 'fourteen'\n",
      " 'fourteen' 'fourteen' 'fifteen' 'seven' 'fourteen' 'ten' 'eight' 'draw'\n",
      " 'eight' 'nine' 'draw' 'thirteen' 'fourteen' 'fifteen' 'thirteen' 'ten'\n",
      " 'thirteen']\n"
     ]
    }
   ],
   "source": [
    "print('X:\\n',X)\n",
    "print('\\nY:\\n',Y)"
   ]
  },
  {
   "cell_type": "code",
   "execution_count": 9,
   "metadata": {},
   "outputs": [
    {
     "name": "stdout",
     "output_type": "stream",
     "text": [
      "Number of train samples:  20\n",
      "Number of test samples:  5\n"
     ]
    }
   ],
   "source": [
    "X_train, X_test, y_train, y_test = train_test_split(X, Y, shuffle=True, random_state=15, test_size=0.2)\n",
    "print(\"Number of train samples: \", len(X_train))\n",
    "print(\"Number of test samples: \", len(X_test))"
   ]
  },
  {
   "cell_type": "code",
   "execution_count": 10,
   "metadata": {},
   "outputs": [
    {
     "name": "stdout",
     "output_type": "stream",
     "text": [
      "X_train:\n",
      " [[2.5495097567963922 2.9154759474226504 3.5355339059327378]\n",
      " [3.5355339059327378 3.5355339059327378 3.8078865529319543]\n",
      " [3.8078865529319543 3.5355339059327378 3.5355339059327378]\n",
      " [2.1213203435596424 2.9154759474226504 2.9154759474226504]\n",
      " [2.9154759474226504 0.7071067811865476 3.8078865529319543]\n",
      " [3.5355339059327378 4.949747468305833 2.5495097567963922]\n",
      " [1.5811388300841898 0.7071067811865476 2.9154759474226504]\n",
      " [4.301162633521313 2.5495097567963922 2.9154759474226504]\n",
      " [4.301162633521313 2.1213203435596424 3.5355339059327378]\n",
      " [3.8078865529319543 3.8078865529319543 3.5355339059327378]\n",
      " [2.9154759474226504 0.7071067811865476 4.949747468305833]\n",
      " [1.5811388300841898 4.949747468305833 3.8078865529319543]\n",
      " [2.5495097567963922 2.1213203435596424 2.9154759474226504]\n",
      " [3.8078865529319543 4.301162633521313 4.949747468305833]\n",
      " [2.9154759474226504 2.9154759474226504 2.1213203435596424]\n",
      " [2.1213203435596424 4.949747468305833 3.5355339059327378]\n",
      " [2.5495097567963922 2.1213203435596424 3.8078865529319543]\n",
      " [2.5495097567963922 3.8078865529319543 3.5355339059327378]\n",
      " [4.949747468305833 4.301162633521313 2.9154759474226504]\n",
      " [2.5495097567963922 2.9154759474226504 1.5811388300841898]]\n",
      "\n",
      "Y_train:\n",
      " ['thirteen' 'draw' 'twelve' 'ten' 'eight' 'fourteen' 'nine' 'fifteen'\n",
      " 'fourteen' 'thirteen' 'nine' 'ten' 'draw' 'seven' 'fourteen' 'eleven'\n",
      " 'six' 'fourteen' 'fifteen' 'fourteen']\n"
     ]
    }
   ],
   "source": [
    "print('X_train:\\n',X_train)\n",
    "print('\\nY_train:\\n',y_train)"
   ]
  },
  {
   "cell_type": "code",
   "execution_count": 11,
   "metadata": {},
   "outputs": [
    {
     "name": "stdout",
     "output_type": "stream",
     "text": [
      "X_test:\n",
      " [[0.7071067811865476 2.5495097567963922 4.301162633521313]\n",
      " [3.8078865529319543 3.5355339059327378 2.9154759474226504]\n",
      " [0.7071067811865476 2.5495097567963922 3.8078865529319543]\n",
      " [0.7071067811865476 3.5355339059327378 2.9154759474226504]\n",
      " [3.5355339059327378 4.301162633521313 2.1213203435596424]]\n",
      "\n",
      "y_test:\n",
      " ['eight' 'thirteen' 'nine' 'nine' 'fourteen']\n"
     ]
    }
   ],
   "source": [
    "print('X_test:\\n',X_test)\n",
    "print('\\ny_test:\\n',y_test)"
   ]
  },
  {
   "cell_type": "code",
   "execution_count": 12,
   "metadata": {},
   "outputs": [],
   "source": [
    "scaler = StandardScaler()\n",
    "scaler.fit(X_train)\n",
    "X_train = scaler.transform(X_train)\n",
    "X_test = scaler.transform(X_test)"
   ]
  },
  {
   "cell_type": "markdown",
   "metadata": {},
   "source": [
    "# Using kNN Classifier"
   ]
  },
  {
   "cell_type": "code",
   "execution_count": 13,
   "metadata": {},
   "outputs": [],
   "source": [
    "kNN = KNeighborsClassifier(n_neighbors=3)\n",
    "kNN.fit(X_train, y_train)\n",
    "y_pred = kNN.predict(X_test)"
   ]
  },
  {
   "cell_type": "code",
   "execution_count": 14,
   "metadata": {
    "scrolled": true
   },
   "outputs": [
    {
     "data": {
      "text/plain": [
       "<sklearn.metrics._plot.confusion_matrix.ConfusionMatrixDisplay at 0x7fb504c1fc10>"
      ]
     },
     "execution_count": 14,
     "metadata": {},
     "output_type": "execute_result"
    },
    {
     "data": {
      "image/png": "[encoded data removed]",
      "text/plain": [
       "<Figure size 432x288 with 2 Axes>"
      ]
     },
     "metadata": {
      "needs_background": "light"
     },
     "output_type": "display_data"
    }
   ],
   "source": [
    "cm = confusion_matrix(y_test, y_pred, labels=classLabels)\n",
    "disp = ConfusionMatrixDisplay(confusion_matrix=cm, display_labels=classLabels)\n",
    "disp.plot()"
   ]
  },
  {
   "cell_type": "markdown",
   "metadata": {},
   "source": [
    "## $2^{nd}$ Classifier (Gaussian Naive Bayes) :  "
   ]
  },
  {
   "cell_type": "code",
   "execution_count": 17,
   "metadata": {},
   "outputs": [],
   "source": [
    "gnb=GaussianNB().fit(X_train,y_train)\n",
    "y_pred1 = gnb.predict(X_test)"
   ]
  },
  {
   "cell_type": "code",
   "execution_count": 18,
   "metadata": {},
   "outputs": [
    {
     "data": {
      "text/plain": [
       "<sklearn.metrics._plot.confusion_matrix.ConfusionMatrixDisplay at 0x7fb504c1f580>"
      ]
     },
     "execution_count": 18,
     "metadata": {},
     "output_type": "execute_result"
    },
    {
     "data": {
      "image/png": "[encoded data removed]",
      "text/plain": [
       "<Figure size 432x288 with 2 Axes>"
      ]
     },
     "metadata": {
      "needs_background": "light"
     },
     "output_type": "display_data"
    }
   ],
   "source": [
    "cm1 = confusion_matrix(y_test, y_pred1, labels=classLabels)\n",
    "disp1 = ConfusionMatrixDisplay(confusion_matrix=cm1, display_labels=classLabels)\n",
    "disp1.plot()"
   ]
  }
 ],
 "metadata": {
  "kernelspec": {
   "display_name": "Python 3",
   "language": "python",
   "name": "python3"
  },
  "language_info": {
   "codemirror_mode": {
    "name": "ipython",
    "version": 3
   },
   "file_extension": ".py",
   "mimetype": "text/x-python",
   "name": "python",
   "nbconvert_exporter": "python",
   "pygments_lexer": "ipython3",
   "version": "3.8.3"
  }
 },
 "nbformat": 4,
 "nbformat_minor": 4
}
