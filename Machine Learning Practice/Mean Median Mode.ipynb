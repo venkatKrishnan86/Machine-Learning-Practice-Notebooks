{
 "cells": [
  {
   "cell_type": "markdown",
   "metadata": {},
   "source": [
    "# Mean, Median and Mode\n",
    "Creating fake income data centered around 27000, with standard deviation of 15000, with 10000 data points.\n",
    "\n",
    "The Mean ≈ 27000"
   ]
  },
  {
   "cell_type": "code",
   "execution_count": 3,
   "metadata": {},
   "outputs": [],
   "source": [
    "import numpy as np"
   ]
  },
  {
   "cell_type": "code",
   "execution_count": 9,
   "metadata": {},
   "outputs": [
    {
     "name": "stdout",
     "output_type": "stream",
     "text": [
      "49995.03523764633\n"
     ]
    }
   ],
   "source": [
    "income = np.random.normal(50000,10000,10000)\n",
    "print(np.mean(income))"
   ]
  },
  {
   "cell_type": "code",
   "execution_count": 10,
   "metadata": {},
   "outputs": [
    {
     "data": {
      "text/plain": [
       "array([46941.31383746, 50385.42974364, 59565.24096981, ...,\n",
       "       46290.81624896, 72531.26773869, 40410.00185708])"
      ]
     },
     "execution_count": 10,
     "metadata": {},
     "output_type": "execute_result"
    }
   ],
   "source": [
    "income"
   ]
  },
  {
   "cell_type": "code",
   "execution_count": 11,
   "metadata": {},
   "outputs": [
    {
     "data": {
      "image/png": "[encoded data removed]",
      "text/plain": [
       "<Figure size 432x288 with 1 Axes>"
      ]
     },
     "metadata": {
      "needs_background": "light"
     },
     "output_type": "display_data"
    }
   ],
   "source": [
    "%matplotlib inline\n",
    "import matplotlib.pyplot as plt\n",
    "plt.hist(income,50)\n",
    "plt.show()"
   ]
  },
  {
   "cell_type": "code",
   "execution_count": 12,
   "metadata": {},
   "outputs": [
    {
     "data": {
      "text/plain": [
       "50044.970719400444"
      ]
     },
     "execution_count": 12,
     "metadata": {},
     "output_type": "execute_result"
    }
   ],
   "source": [
    "np.median(income)"
   ]
  },
  {
   "cell_type": "code",
   "execution_count": 19,
   "metadata": {},
   "outputs": [],
   "source": [
    "#Adding Jeff Bezos\n",
    "income_new = np.append(income,[1000000000])"
   ]
  },
  {
   "cell_type": "code",
   "execution_count": 20,
   "metadata": {},
   "outputs": [
    {
     "data": {
      "text/plain": [
       "149980.03723392292"
      ]
     },
     "execution_count": 20,
     "metadata": {},
     "output_type": "execute_result"
    }
   ],
   "source": [
    "np.mean(income_new) #Does not give a good idea of what is the normal man's salary because of extreme outliers"
   ]
  },
  {
   "cell_type": "code",
   "execution_count": 21,
   "metadata": {},
   "outputs": [
    {
     "data": {
      "text/plain": [
       "50045.464247597716"
      ]
     },
     "execution_count": 21,
     "metadata": {},
     "output_type": "execute_result"
    }
   ],
   "source": [
    "np.median(income_new) #More useful information"
   ]
  },
  {
   "cell_type": "markdown",
   "metadata": {},
   "source": [
    "## Mode\n",
    "We will use `stats.mode` to calculate the mode of the fake ages of people data"
   ]
  },
  {
   "cell_type": "code",
   "execution_count": 29,
   "metadata": {},
   "outputs": [],
   "source": [
    "ages = np.random.randint(18,high=90,size=500)"
   ]
  },
  {
   "cell_type": "code",
   "execution_count": 30,
   "metadata": {},
   "outputs": [
    {
     "data": {
      "text/plain": [
       "array([66, 56, 51, 62, 37, 36, 88, 52, 74, 51, 72, 20, 19, 54, 25, 25, 58,\n",
       "       51, 27, 23, 73, 29, 51, 75, 64, 67, 49, 72, 53, 70, 84, 47, 39, 74,\n",
       "       36, 85, 70, 32, 35, 76, 74, 66, 65, 45, 40, 79, 18, 52, 39, 74, 37,\n",
       "       69, 86, 51, 53, 84, 64, 30, 78, 20, 18, 20, 52, 58, 82, 43, 86, 89,\n",
       "       87, 48, 85, 80, 87, 55, 54, 18, 77, 53, 88, 26, 55, 67, 80, 63, 27,\n",
       "       76, 52, 63, 18, 52, 77, 33, 47, 81, 19, 88, 52, 33, 69, 68, 26, 55,\n",
       "       26, 38, 51, 34, 56, 58, 74, 76, 79, 36, 77, 40, 27, 72, 55, 34, 71,\n",
       "       50, 63, 54, 68, 87, 53, 86, 77, 62, 55, 52, 86, 39, 76, 69, 56, 77,\n",
       "       53, 37, 56, 80, 30, 48, 19, 33, 50, 58, 57, 58, 36, 83, 57, 87, 37,\n",
       "       64, 79, 20, 47, 72, 19, 36, 48, 57, 30, 50, 28, 83, 36, 84, 20, 78,\n",
       "       25, 30, 81, 34, 56, 84, 65, 83, 89, 76, 50, 60, 46, 65, 45, 37, 53,\n",
       "       56, 25, 58, 32, 18, 72, 24, 58, 83, 69, 30, 54, 57, 38, 57, 31, 28,\n",
       "       48, 60, 55, 57, 48, 37, 28, 84, 23, 20, 76, 64, 88, 31, 40, 47, 76,\n",
       "       40, 86, 85, 40, 55, 88, 26, 37, 84, 21, 66, 21, 68, 77, 59, 43, 20,\n",
       "       65, 28, 42, 62, 24, 55, 67, 45, 22, 70, 29, 39, 72, 67, 73, 83, 60,\n",
       "       74, 71, 59, 20, 34, 57, 20, 44, 65, 43, 30, 49, 27, 74, 31, 37, 20,\n",
       "       79, 26, 56, 50, 88, 70, 89, 85, 69, 40, 80, 23, 85, 69, 41, 70, 88,\n",
       "       68, 41, 61, 51, 38, 69, 75, 73, 68, 29, 70, 42, 76, 28, 49, 50, 88,\n",
       "       35, 62, 39, 20, 50, 80, 45, 60, 44, 38, 62, 31, 36, 43, 27, 21, 75,\n",
       "       73, 48, 43, 84, 46, 51, 68, 66, 72, 84, 30, 88, 51, 23, 63, 67, 49,\n",
       "       77, 51, 34, 35, 55, 71, 26, 18, 55, 67, 83, 88, 58, 27, 79, 37, 51,\n",
       "       52, 39, 89, 59, 67, 31, 58, 37, 50, 76, 58, 42, 66, 47, 35, 69, 83,\n",
       "       46, 24, 77, 35, 52, 53, 78, 46, 57, 61, 72, 38, 22, 37, 88, 26, 49,\n",
       "       71, 51, 20, 48, 30, 35, 20, 22, 32, 82, 73, 57, 70, 33, 78, 68, 80,\n",
       "       84, 39, 50, 70, 80, 22, 71, 23, 71, 33, 87, 45, 72, 27, 38, 40, 79,\n",
       "       53, 34, 67, 86, 56, 24, 44, 79, 25, 59, 62, 80, 26, 48, 56, 47, 48,\n",
       "       56, 82, 58, 37, 75, 77, 25, 61, 28, 24, 57, 25, 78, 32, 50, 64, 86,\n",
       "       21, 39, 43, 73, 39, 82, 53, 56, 39, 65, 25, 42, 80, 87, 26, 26, 51,\n",
       "       78, 69, 66, 19, 71, 59, 82, 67, 46, 79, 75, 33, 45, 29, 19, 87, 76,\n",
       "       32, 24, 86, 62, 49, 78, 27])"
      ]
     },
     "execution_count": 30,
     "metadata": {},
     "output_type": "execute_result"
    }
   ],
   "source": [
    "ages"
   ]
  },
  {
   "cell_type": "code",
   "execution_count": 32,
   "metadata": {},
   "outputs": [
    {
     "data": {
      "text/plain": [
       "ModeResult(mode=array([20]), count=array([13]))"
      ]
     },
     "execution_count": 32,
     "metadata": {},
     "output_type": "execute_result"
    }
   ],
   "source": [
    "from scipy import stats\n",
    "stats.mode(ages)"
   ]
  }
 ],
 "metadata": {
  "kernelspec": {
   "display_name": "Python 3",
   "language": "python",
   "name": "python3"
  },
  "language_info": {
   "codemirror_mode": {
    "name": "ipython",
    "version": 3
   },
   "file_extension": ".py",
   "mimetype": "text/x-python",
   "name": "python",
   "nbconvert_exporter": "python",
   "pygments_lexer": "ipython3",
   "version": "3.8.3"
  }
 },
 "nbformat": 4,
 "nbformat_minor": 4
}
