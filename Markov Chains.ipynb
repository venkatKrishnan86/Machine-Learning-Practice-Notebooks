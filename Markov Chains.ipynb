{
 "cells": [
  {
   "cell_type": "code",
   "execution_count": 1,
   "metadata": {},
   "outputs": [],
   "source": [
    "import numpy as np"
   ]
  },
  {
   "cell_type": "code",
   "execution_count": 2,
   "metadata": {},
   "outputs": [
    {
     "data": {
      "text/plain": [
       "{0: 'Burger', 1: 'Pizza', 2: 'Hot Dog'}"
      ]
     },
     "execution_count": 2,
     "metadata": {},
     "output_type": "execute_result"
    }
   ],
   "source": [
    "state = {\n",
    "    0:\"Burger\",\n",
    "    1:\"Pizza\",\n",
    "    2:\"Hot Dog\",\n",
    "}\n",
    "state"
   ]
  },
  {
   "attachments": {},
   "cell_type": "markdown",
   "metadata": {},
   "source": [
    "### Transition Matrix"
   ]
  },
  {
   "cell_type": "code",
   "execution_count": 3,
   "metadata": {},
   "outputs": [
    {
     "data": {
      "text/plain": [
       "array([[0.2, 0.6, 0.2],\n",
       "       [0.3, 0. , 0.7],\n",
       "       [0.5, 0. , 0.5]])"
      ]
     },
     "execution_count": 3,
     "metadata": {},
     "output_type": "execute_result"
    }
   ],
   "source": [
    "A = np.array([\n",
    "    [0.2, 0.6, 0.2],\n",
    "    [0.3, 0.0, 0.7],\n",
    "    [0.5, 0.0, 0.5]\n",
    "])\n",
    "A"
   ]
  },
  {
   "attachments": {},
   "cell_type": "markdown",
   "metadata": {},
   "source": [
    "## Random Walk on Markov Chain\n",
    "Start from some arbitrary state and move along the markov chain following the transition probabilities"
   ]
  },
  {
   "cell_type": "code",
   "execution_count": 4,
   "metadata": {},
   "outputs": [
    {
     "name": "stdout",
     "output_type": "stream",
     "text": [
      "Burger ---> Pizza ---> Hot Dog ---> Burger ---> Hot Dog ---> Burger ---> Pizza ---> Hot Dog ---> Hot Dog ---> Hot Dog ---> Hot Dog ---> Burger ---> Hot Dog ---> Hot Dog ---> Hot Dog ---> Burger ---> Burger ---> Pizza ---> Burger ---> Pizza ---> "
     ]
    }
   ],
   "source": [
    "n_steps = 20\n",
    "start_state = 0 # Burger\n",
    "print(state[start_state],'--->',end=' ')\n",
    "prev_state = start_state\n",
    "\n",
    "while n_steps-1: # n_steps - 1 times\n",
    "    curr_state = np.random.choice([0,1,2], p = A[prev_state])\n",
    "    print(state[curr_state],'--->',end=' ')\n",
    "    prev_state = curr_state\n",
    "    n_steps-=1"
   ]
  },
  {
   "attachments": {},
   "cell_type": "markdown",
   "metadata": {},
   "source": [
    "# Stationary Distribution"
   ]
  },
  {
   "attachments": {},
   "cell_type": "markdown",
   "metadata": {},
   "source": [
    "## Approach 1: Monte Carlo method"
   ]
  },
  {
   "cell_type": "code",
   "execution_count": 5,
   "metadata": {},
   "outputs": [],
   "source": [
    "n_steps = 10**6 # 1 million steps\n",
    "start_state = 0\n",
    "prev_state = start_state\n",
    "pi = np.array([0,0,0])\n",
    "pi[start_state] = 1\n",
    "\n",
    "i=0\n",
    "while i<n_steps: # n_steps - 1 times\n",
    "    curr_state = np.random.choice([0,1,2], p = A[prev_state])\n",
    "    pi[curr_state]+=1\n",
    "    prev_state = curr_state\n",
    "    i+=1"
   ]
  },
  {
   "cell_type": "code",
   "execution_count": 6,
   "metadata": {},
   "outputs": [
    {
     "name": "stdout",
     "output_type": "stream",
     "text": [
      "Stationary Distribution = [0.352325 0.211705 0.435971]\n"
     ]
    }
   ],
   "source": [
    "print(f'Stationary Distribution = {pi/n_steps}')"
   ]
  },
  {
   "attachments": {},
   "cell_type": "markdown",
   "metadata": {},
   "source": [
    "## Approach 2: Repeated Matrix Multiplication\n",
    "Converges faster than Monte carlo method"
   ]
  },
  {
   "cell_type": "code",
   "execution_count": 7,
   "metadata": {},
   "outputs": [],
   "source": [
    "steps = 1000\n",
    "A_power = np.matmul(A,A)\n",
    "for i in range(steps-1):\n",
    "    A_power = np.matmul(A_power, A)"
   ]
  },
  {
   "cell_type": "code",
   "execution_count": 8,
   "metadata": {},
   "outputs": [
    {
     "name": "stdout",
     "output_type": "stream",
     "text": [
      "A^1000 \n",
      "=[[0.35211268 0.21126761 0.43661972]\n",
      " [0.35211268 0.21126761 0.43661972]\n",
      " [0.35211268 0.21126761 0.43661972]]\n",
      "\n",
      "Stationary Distribution = [0.35211268 0.21126761 0.43661972]\n"
     ]
    }
   ],
   "source": [
    "print(f'A^{steps} \\n={A_power}')\n",
    "print(f'\\nStationary Distribution = {A_power[0]}')"
   ]
  },
  {
   "attachments": {},
   "cell_type": "markdown",
   "metadata": {},
   "source": [
    "## Approach 3: Finding Left Eigenvectors"
   ]
  },
  {
   "cell_type": "code",
   "execution_count": 9,
   "metadata": {},
   "outputs": [],
   "source": [
    "from scipy.linalg import eig"
   ]
  },
  {
   "cell_type": "code",
   "execution_count": 10,
   "metadata": {},
   "outputs": [
    {
     "name": "stdout",
     "output_type": "stream",
     "text": [
      "Eigenvalues = [ 1.  +0.j        -0.15+0.3122499j -0.15-0.3122499j]\n",
      "Eigenvectors \n",
      " = [[-0.58746336+0.j         -0.16984156-0.35355339j -0.16984156+0.35355339j]\n",
      " [-0.35247801+0.j          0.67936622+0.j          0.67936622-0.j        ]\n",
      " [-0.72845456+0.j         -0.50952467+0.35355339j -0.50952467-0.35355339j]]\n"
     ]
    }
   ],
   "source": [
    "values, vectors = eig(A, left = True, right = False)\n",
    "print(f'Eigenvalues = {values}')\n",
    "print(f'Eigenvectors \\n = {vectors}')"
   ]
  },
  {
   "cell_type": "code",
   "execution_count": 11,
   "metadata": {},
   "outputs": [
    {
     "data": {
      "text/plain": [
       "array([-0.58746336+0.j, -0.35247801+0.j, -0.72845456+0.j])"
      ]
     },
     "execution_count": 11,
     "metadata": {},
     "output_type": "execute_result"
    }
   ],
   "source": [
    "for i in range(len(values)):\n",
    "    if np.round(values[i],5) == 1 + 0j:\n",
    "        pi_1 = vectors.T[i]\n",
    "        break\n",
    "pi_1"
   ]
  },
  {
   "attachments": {},
   "cell_type": "markdown",
   "metadata": {},
   "source": [
    "#### Normalising `pi_1`"
   ]
  },
  {
   "cell_type": "code",
   "execution_count": 12,
   "metadata": {},
   "outputs": [
    {
     "data": {
      "text/plain": [
       "array([0.35211268-0.j, 0.21126761-0.j, 0.43661972-0.j])"
      ]
     },
     "execution_count": 12,
     "metadata": {},
     "output_type": "execute_result"
    }
   ],
   "source": [
    "pi_1 = pi_1/np.sum(pi_1)\n",
    "pi_1"
   ]
  },
  {
   "cell_type": "code",
   "execution_count": 13,
   "metadata": {},
   "outputs": [
    {
     "name": "stdout",
     "output_type": "stream",
     "text": [
      "Stationary Distribution = [0.35211268 0.21126761 0.43661972]\n"
     ]
    }
   ],
   "source": [
    "print(f'Stationary Distribution = {pi_1.real}')"
   ]
  },
  {
   "attachments": {},
   "cell_type": "markdown",
   "metadata": {},
   "source": [
    "# Probability of a Sequence\n",
    "$$P(\\text{Pizza} --> \\text{Hot Dog} --> \\text{Hot Dog} --> \\text{Burger})=\\text{ }?$$"
   ]
  },
  {
   "cell_type": "code",
   "execution_count": 14,
   "metadata": {},
   "outputs": [],
   "source": [
    "def find_prob(seq, A, pi):\n",
    "    start_state = seq[0]\n",
    "    prob = pi[start_state]\n",
    "    prev_state = start_state\n",
    "    for i in range(1, len(seq)):\n",
    "        curr_state = seq[i]\n",
    "        prob *= A[prev_state][curr_state]\n",
    "        prev_state = curr_state\n",
    "    return prob"
   ]
  },
  {
   "cell_type": "code",
   "execution_count": 15,
   "metadata": {},
   "outputs": [
    {
     "name": "stdout",
     "output_type": "stream",
     "text": [
      "P(Pizza --> Hot Dog --> Hot Dog --> Burger) = 0.03697\n"
     ]
    }
   ],
   "source": [
    "print(f'P(Pizza --> Hot Dog --> Hot Dog --> Burger) = {find_prob([1,2,2,0], A, pi_1.real):.5f}')"
   ]
  }
 ],
 "metadata": {
  "kernelspec": {
   "display_name": "Python 3",
   "language": "python",
   "name": "python3"
  },
  "language_info": {
   "codemirror_mode": {
    "name": "ipython",
    "version": 3
   },
   "file_extension": ".py",
   "mimetype": "text/x-python",
   "name": "python",
   "nbconvert_exporter": "python",
   "pygments_lexer": "ipython3",
   "version": "3.10.6"
  },
  "orig_nbformat": 4,
  "vscode": {
   "interpreter": {
    "hash": "193f6b5c64d175a70f8bc370a8e28557b54eddf9787b8dde324aa4d68183bc16"
   }
  }
 },
 "nbformat": 4,
 "nbformat_minor": 2
}
